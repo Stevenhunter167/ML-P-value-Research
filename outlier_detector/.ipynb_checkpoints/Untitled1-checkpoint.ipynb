{
 "cells": [
  {
   "cell_type": "code",
   "execution_count": 1,
   "metadata": {},
   "outputs": [],
   "source": [
    "import numpy as np\n",
    "import scipy\n",
    "import matplotlib.pyplot as plt"
   ]
  },
  {
   "cell_type": "markdown",
   "metadata": {},
   "source": [
    "Hi Professor Hayes! While Yaosheng is working on solving the outlier problem by using fitting a distribution to the absolute position like you mentioned above, I tried another method which calculates the p-value of data on each principal component of the cluster using the distribution on that component (empirical or normal or any). \n",
    "\n",
    "Iris example: For example, a 4 feature dataset like iris has 4 principal components. My method calculates how unusual is the input data (pvalue) in terms of each principal component that we learned from the training data. A average p-value is optionally calculated to model: how extreme the data is in terms of spacial positioning (that it is a outlier or not). \n",
    "\n",
    "All methods that are changable in my model:\n",
    "1. the component is extracted using singular value decomposition.\n",
    "2. p-value is calculated using the empirical distribution\n",
    "3. each component is analyzed, final result is the average of p-value on each component\n",
    "\n",
    "Note: this model only calculates p-value on each component, goal is to integrate to the entire model.\n",
    "\n",
    "Goal: I think that different outlier detection models can have different performance on different datasets. We can make a comparison between mine and Yaosheng's. I think it will also be possible to combine the advantages of different model or dynamically selecting the outlier detector when training, since we are all calculating p-values only using different modelings and interpretations.\n",
    "\n"
   ]
  },
  {
   "cell_type": "code",
   "execution_count": 3,
   "metadata": {},
   "outputs": [],
   "source": [
    "from sklearn.datasets import load_iris\n",
    "np.random.seed(0)\n",
    "\n",
    "iris = load_iris()\n",
    "X = iris['data']\n",
    "Y = iris['target']\n",
    "DATA = np.concatenate((X, np.reshape(Y, (len(Y), 1))), axis=1)\n",
    "np.random.shuffle(DATA)\n",
    "training_portion = 0.6\n",
    "\n",
    "index = int(len(DATA) * 0.6)\n",
    "TRAIN = DATA[:index, :]\n",
    "TEST  = DATA[index:, :]\n",
    "\n",
    "Xtrain, Ytrain = TRAIN[:, :-1], TRAIN[:, -1]\n",
    "Xtest , Ytest  = TEST[:, :-1], TEST[:, -1]"
   ]
  },
  {
   "cell_type": "code",
   "execution_count": 82,
   "metadata": {},
   "outputs": [],
   "source": [
    "class PCA_pvalue:\n",
    "    def __init__(self, Xtrain, Ytrain):\n",
    "        \"\"\" X in Rn, Y in range(0,n) \"\"\"\n",
    "        self.features = Xtrain.shape[1]\n",
    "        self.classes = np.array(np.unique(Ytrain), dtype='int')\n",
    "        \n",
    "        self.Ws  = []\n",
    "        self.VTs = []\n",
    "        self.invVTs = []\n",
    "        \n",
    "        for yi in self.classes:\n",
    "            Wi, VTi = self.svd_WVT(Xtrain, Ytrain, yi)\n",
    "            self.Ws.append(Wi)\n",
    "#             plt.scatter(Wi[:,0], Wi[:,1])\n",
    "#             plt.axis('equal')\n",
    "#             plt.show()\n",
    "            self.VTs.append(VTi)\n",
    "            self.invVTs.append(np.linalg.pinv(VTi))\n",
    "    \n",
    "    @staticmethod\n",
    "    def svd_WVT(X, Y, y):\n",
    "        \"\"\" \n",
    "        X = U Sigma VT \n",
    "        W = U Sigma\n",
    "        return W , VT\n",
    "        \"\"\"\n",
    "        U,Sigma,VT = scipy.linalg.svd(X[Y==y])\n",
    "        t = np.concatenate([Sigma, np.zeros((U.shape[0]-Sigma.shape[0],))], axis=0)\n",
    "        Sc = np.diag(t)\n",
    "        W = U.dot(Sc)\n",
    "        VTc = np.concatenate([VT, np.zeros((U.shape[1]-VT.shape[0], VT.shape[1]))], axis=0)\n",
    "        return W, VTc\n",
    "    \n",
    "    @staticmethod\n",
    "    def empirical_pvalue(X, test):\n",
    "        \"\"\"\n",
    "            X: r by c\n",
    "            test: 1 by c\n",
    "            return: 1 by c\n",
    "        \"\"\"\n",
    "        rawP = np.sum(X < test, axis=0) / X.shape[0]\n",
    "        rawP[rawP>0.5] = 1-rawP[rawP>0.5]\n",
    "        return rawP\n",
    "    \n",
    "    def pvalue(self, Xtest, verbose=0):\n",
    "        pv_yi = []\n",
    "        \n",
    "        for y in self.classes:\n",
    "            # W, VT^-1\n",
    "            W = self.Ws[y]\n",
    "            \n",
    "            invVT = self.invVTs[y]\n",
    "            Wtest = Xtest.dot(invVT)[:, :self.features]\n",
    "            \n",
    "            p_test = lambda data: self.empirical_pvalue(W[:,:self.features], data)\n",
    "            pv_yi.append( np.apply_along_axis(arr=Wtest, axis=1, func1d=p_test) )\n",
    "        \n",
    "        return np.transpose(np.array(pv_yi), axes=(1,0,2))\n",
    "    \n",
    "    def pvalue_avg(self, Xtest):\n",
    "        return np.mean(self.pvalue(Xtest), axis=2)\n",
    "    \n",
    "    def predict(self, Xtest):\n",
    "        return np.array(np.argmax(self.pvalue_avg(Xtest), axis=1), dtype='int16')\n",
    "    \n",
    "    def evaluate_performance(self, Xtest, Ytest):\n",
    "        return np.sum(self.predict(Xtest)==Ytest) / Xtest.shape[0]"
   ]
  },
  {
   "cell_type": "code",
   "execution_count": 83,
   "metadata": {},
   "outputs": [],
   "source": [
    "mean=np.array([np.mean(X[Y==0], axis=0), np.mean(X[Y==1], axis=0)])"
   ]
  },
  {
   "cell_type": "code",
   "execution_count": 84,
   "metadata": {},
   "outputs": [
    {
     "data": {
      "text/plain": [
       "array([[[0.5 , 0.46, 0.48, 0.4 ],\n",
       "        [0.  , 0.  , 0.  , 0.  ],\n",
       "        [0.  , 0.  , 0.  , 0.02]],\n",
       "\n",
       "       [[0.02, 0.  , 0.  , 0.  ],\n",
       "        [0.48, 0.46, 0.48, 0.44],\n",
       "        [0.02, 0.38, 0.  , 0.36]]])"
      ]
     },
     "execution_count": 84,
     "metadata": {},
     "output_type": "execute_result"
    }
   ],
   "source": [
    "PCA_pvalue(X,Y).pvalue(mean)"
   ]
  },
  {
   "cell_type": "code",
   "execution_count": 85,
   "metadata": {},
   "outputs": [
    {
     "data": {
      "text/plain": [
       "array([[0.46 , 0.   , 0.005],\n",
       "       [0.005, 0.465, 0.19 ]])"
      ]
     },
     "execution_count": 85,
     "metadata": {},
     "output_type": "execute_result"
    }
   ],
   "source": [
    "PCA_pvalue(X,Y).pvalue_avg(mean)"
   ]
  },
  {
   "cell_type": "code",
   "execution_count": 86,
   "metadata": {},
   "outputs": [
    {
     "data": {
      "text/plain": [
       "array([0, 1], dtype=int16)"
      ]
     },
     "execution_count": 86,
     "metadata": {},
     "output_type": "execute_result"
    }
   ],
   "source": [
    "PCA_pvalue(X,Y).predict(mean)"
   ]
  },
  {
   "cell_type": "code",
   "execution_count": 87,
   "metadata": {},
   "outputs": [
    {
     "data": {
      "text/plain": [
       "array([[0.        , 0.01515152, 0.30645161],\n",
       "       [0.00961538, 0.        , 0.0483871 ],\n",
       "       [0.        , 0.02272727, 0.28225806],\n",
       "       [0.15384615, 0.00757576, 0.08870968],\n",
       "       [0.00961538, 0.12878788, 0.21774194],\n",
       "       [0.        , 0.06060606, 0.33064516],\n",
       "       [0.25      , 0.09090909, 0.07258065],\n",
       "       [0.34615385, 0.03030303, 0.07258065],\n",
       "       [0.        , 0.15151515, 0.16935484],\n",
       "       [0.31730769, 0.01515152, 0.07258065],\n",
       "       [0.34615385, 0.03030303, 0.12096774],\n",
       "       [0.22115385, 0.09090909, 0.04032258],\n",
       "       [0.04807692, 0.16666667, 0.12096774],\n",
       "       [0.        , 0.00757576, 0.2983871 ],\n",
       "       [0.        , 0.09848485, 0.10483871],\n",
       "       [0.35576923, 0.01515152, 0.11290323],\n",
       "       [0.22115385, 0.00757576, 0.09677419],\n",
       "       [0.29807692, 0.00757576, 0.11290323],\n",
       "       [0.00961538, 0.21212121, 0.11290323],\n",
       "       [0.        , 0.23484848, 0.08870968],\n",
       "       [0.24038462, 0.00757576, 0.11290323],\n",
       "       [0.21153846, 0.02272727, 0.08064516],\n",
       "       [0.        , 0.26515152, 0.05645161],\n",
       "       [0.16346154, 0.00757576, 0.12096774],\n",
       "       [0.        , 0.12121212, 0.        ],\n",
       "       [0.08653846, 0.18181818, 0.07258065],\n",
       "       [0.        , 0.15151515, 0.10483871],\n",
       "       [0.        , 0.20454545, 0.13709677],\n",
       "       [0.09615385, 0.11363636, 0.04032258],\n",
       "       [0.        , 0.12121212, 0.16129032],\n",
       "       [0.10576923, 0.00757576, 0.08064516],\n",
       "       [0.        , 0.12121212, 0.03225806],\n",
       "       [0.27884615, 0.09848485, 0.04032258],\n",
       "       [0.23076923, 0.03030303, 0.12096774],\n",
       "       [0.        , 0.10606061, 0.19354839],\n",
       "       [0.32692308, 0.00757576, 0.12096774],\n",
       "       [0.        , 0.00757576, 0.22580645],\n",
       "       [0.00961538, 0.39393939, 0.10483871],\n",
       "       [0.00961538, 0.3030303 , 0.06451613],\n",
       "       [0.02884615, 0.09090909, 0.03225806],\n",
       "       [0.        , 0.01515152, 0.33064516],\n",
       "       [0.        , 0.0530303 , 0.19354839],\n",
       "       [0.        , 0.18181818, 0.2016129 ],\n",
       "       [0.        , 0.17424242, 0.21774194],\n",
       "       [0.16346154, 0.00757576, 0.05645161],\n",
       "       [0.06730769, 0.15909091, 0.03225806],\n",
       "       [0.        , 0.01515152, 0.23387097],\n",
       "       [0.        , 0.08333333, 0.32258065],\n",
       "       [0.39423077, 0.01515152, 0.12096774],\n",
       "       [0.        , 0.21969697, 0.09677419],\n",
       "       [0.00961538, 0.21969697, 0.13709677],\n",
       "       [0.        , 0.13636364, 0.12903226],\n",
       "       [0.        , 0.15909091, 0.12903226],\n",
       "       [0.19230769, 0.        , 0.09677419],\n",
       "       [0.25961538, 0.09090909, 0.03225806],\n",
       "       [0.17307692, 0.00757576, 0.07258065],\n",
       "       [0.        , 0.04545455, 0.31451613],\n",
       "       [0.00961538, 0.28787879, 0.04032258],\n",
       "       [0.        , 0.00757576, 0.2016129 ],\n",
       "       [0.33653846, 0.03030303, 0.10483871]])"
      ]
     },
     "execution_count": 87,
     "metadata": {},
     "output_type": "execute_result"
    }
   ],
   "source": [
    "PCA_pvalue(Xtrain, Ytrain).pvalue_avg(Xtest)"
   ]
  },
  {
   "cell_type": "code",
   "execution_count": 24,
   "metadata": {},
   "outputs": [
    {
     "data": {
      "text/plain": [
       "array([2, 2, 2, 0, 2, 2, 0, 0, 2, 0, 0, 0, 1, 2, 2, 0, 0, 0, 1, 1, 0, 0,\n",
       "       1, 0, 1, 1, 1, 1, 1, 2, 0, 1, 0, 0, 2, 0, 2, 1, 1, 1, 2, 2, 2, 2,\n",
       "       0, 1, 2, 2, 0, 1, 1, 1, 1, 0, 0, 0, 2, 1, 2, 0], dtype=int64)"
      ]
     },
     "execution_count": 24,
     "metadata": {},
     "output_type": "execute_result"
    }
   ],
   "source": [
    "PCA_pvalue(Xtrain, Ytrain).predict(Xtest)"
   ]
  },
  {
   "cell_type": "code",
   "execution_count": 25,
   "metadata": {},
   "outputs": [
    {
     "data": {
      "text/plain": [
       "0.8833333333333333"
      ]
     },
     "execution_count": 25,
     "metadata": {},
     "output_type": "execute_result"
    }
   ],
   "source": [
    "PCA_pvalue(Xtrain, Ytrain).evaluate_performance(Xtest, Ytest)"
   ]
  },
  {
   "cell_type": "code",
   "execution_count": null,
   "metadata": {},
   "outputs": [],
   "source": []
  },
  {
   "cell_type": "code",
   "execution_count": null,
   "metadata": {},
   "outputs": [],
   "source": []
  },
  {
   "cell_type": "code",
   "execution_count": null,
   "metadata": {},
   "outputs": [],
   "source": []
  },
  {
   "cell_type": "code",
   "execution_count": null,
   "metadata": {},
   "outputs": [],
   "source": []
  },
  {
   "cell_type": "code",
   "execution_count": null,
   "metadata": {},
   "outputs": [],
   "source": []
  },
  {
   "cell_type": "code",
   "execution_count": null,
   "metadata": {},
   "outputs": [],
   "source": []
  },
  {
   "cell_type": "code",
   "execution_count": null,
   "metadata": {},
   "outputs": [],
   "source": []
  },
  {
   "cell_type": "code",
   "execution_count": null,
   "metadata": {},
   "outputs": [],
   "source": []
  },
  {
   "cell_type": "code",
   "execution_count": null,
   "metadata": {},
   "outputs": [],
   "source": []
  }
 ],
 "metadata": {
  "kernelspec": {
   "display_name": "Python 3",
   "language": "python",
   "name": "python3"
  },
  "language_info": {
   "codemirror_mode": {
    "name": "ipython",
    "version": 3
   },
   "file_extension": ".py",
   "mimetype": "text/x-python",
   "name": "python",
   "nbconvert_exporter": "python",
   "pygments_lexer": "ipython3",
   "version": "3.8.4"
  }
 },
 "nbformat": 4,
 "nbformat_minor": 4
}
